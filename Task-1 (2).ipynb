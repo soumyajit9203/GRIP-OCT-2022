{
 "cells": [
  {
   "cell_type": "markdown",
   "id": "0fdc7f5c",
   "metadata": {},
   "source": [
    "## Name-Soumyajit Saha\n",
    "\n",
    "## Date-19/10/22\n",
    "\n",
    "## Sparks Foundation Internship\n",
    "\n",
    "### Task-1 - Prediction of percentage of a student on the number of study hours (supervised ML).\n",
    "\n",
    "#### Description of the Task- \n",
    "We have to predict the percentage of a student based on the number of study hours.As a result we have to bulid a regression model which will predict the percentage of a student on the number of study hours. \n",
    "Here Scores refers to the percentage of marks obtained by the student and Hours refers to the number of hours a student studies in a day."
   ]
  },
  {
   "cell_type": "markdown",
   "id": "3722a1ff",
   "metadata": {},
   "source": [
    "We first load the data set for our work and then read the dataset.\n",
    "\n",
    "loading the data "
   ]
  },
  {
   "cell_type": "code",
   "execution_count": 7,
   "id": "a24cf6b2",
   "metadata": {},
   "outputs": [],
   "source": [
    "data<-read.csv('http://bit.ly/w-data',header=T)"
   ]
  },
  {
   "cell_type": "markdown",
   "id": "4f316fb1",
   "metadata": {},
   "source": [
    "Now we have to know about the data to do the Analysis or Prediction."
   ]
  },
  {
   "cell_type": "code",
   "execution_count": 9,
   "id": "ad7c1d25",
   "metadata": {},
   "outputs": [
    {
     "data": {
      "text/html": [
       "<style>\n",
       ".list-inline {list-style: none; margin:0; padding: 0}\n",
       ".list-inline>li {display: inline-block}\n",
       ".list-inline>li:not(:last-child)::after {content: \"\\00b7\"; padding: 0 .5ex}\n",
       "</style>\n",
       "<ol class=list-inline><li>25</li><li>2</li></ol>\n"
      ],
      "text/latex": [
       "\\begin{enumerate*}\n",
       "\\item 25\n",
       "\\item 2\n",
       "\\end{enumerate*}\n"
      ],
      "text/markdown": [
       "1. 25\n",
       "2. 2\n",
       "\n",
       "\n"
      ],
      "text/plain": [
       "[1] 25  2"
      ]
     },
     "metadata": {},
     "output_type": "display_data"
    },
    {
     "data": {
      "text/html": [
       "<table class=\"dataframe\">\n",
       "<caption>A data.frame: 6 × 2</caption>\n",
       "<thead>\n",
       "\t<tr><th></th><th scope=col>Hours</th><th scope=col>Scores</th></tr>\n",
       "\t<tr><th></th><th scope=col>&lt;dbl&gt;</th><th scope=col>&lt;int&gt;</th></tr>\n",
       "</thead>\n",
       "<tbody>\n",
       "\t<tr><th scope=row>1</th><td>2.5</td><td>21</td></tr>\n",
       "\t<tr><th scope=row>2</th><td>5.1</td><td>47</td></tr>\n",
       "\t<tr><th scope=row>3</th><td>3.2</td><td>27</td></tr>\n",
       "\t<tr><th scope=row>4</th><td>8.5</td><td>75</td></tr>\n",
       "\t<tr><th scope=row>5</th><td>3.5</td><td>30</td></tr>\n",
       "\t<tr><th scope=row>6</th><td>1.5</td><td>20</td></tr>\n",
       "</tbody>\n",
       "</table>\n"
      ],
      "text/latex": [
       "A data.frame: 6 × 2\n",
       "\\begin{tabular}{r|ll}\n",
       "  & Hours & Scores\\\\\n",
       "  & <dbl> & <int>\\\\\n",
       "\\hline\n",
       "\t1 & 2.5 & 21\\\\\n",
       "\t2 & 5.1 & 47\\\\\n",
       "\t3 & 3.2 & 27\\\\\n",
       "\t4 & 8.5 & 75\\\\\n",
       "\t5 & 3.5 & 30\\\\\n",
       "\t6 & 1.5 & 20\\\\\n",
       "\\end{tabular}\n"
      ],
      "text/markdown": [
       "\n",
       "A data.frame: 6 × 2\n",
       "\n",
       "| <!--/--> | Hours &lt;dbl&gt; | Scores &lt;int&gt; |\n",
       "|---|---|---|\n",
       "| 1 | 2.5 | 21 |\n",
       "| 2 | 5.1 | 47 |\n",
       "| 3 | 3.2 | 27 |\n",
       "| 4 | 8.5 | 75 |\n",
       "| 5 | 3.5 | 30 |\n",
       "| 6 | 1.5 | 20 |\n",
       "\n"
      ],
      "text/plain": [
       "  Hours Scores\n",
       "1 2.5   21    \n",
       "2 5.1   47    \n",
       "3 3.2   27    \n",
       "4 8.5   75    \n",
       "5 3.5   30    \n",
       "6 1.5   20    "
      ]
     },
     "metadata": {},
     "output_type": "display_data"
    },
    {
     "data": {
      "text/html": [
       "<style>\n",
       ".list-inline {list-style: none; margin:0; padding: 0}\n",
       ".list-inline>li {display: inline-block}\n",
       ".list-inline>li:not(:last-child)::after {content: \"\\00b7\"; padding: 0 .5ex}\n",
       "</style>\n",
       "<ol class=list-inline><li>'Hours'</li><li>'Scores'</li></ol>\n"
      ],
      "text/latex": [
       "\\begin{enumerate*}\n",
       "\\item 'Hours'\n",
       "\\item 'Scores'\n",
       "\\end{enumerate*}\n"
      ],
      "text/markdown": [
       "1. 'Hours'\n",
       "2. 'Scores'\n",
       "\n",
       "\n"
      ],
      "text/plain": [
       "[1] \"Hours\"  \"Scores\""
      ]
     },
     "metadata": {},
     "output_type": "display_data"
    },
    {
     "data": {
      "text/plain": [
       "     Hours           Scores     \n",
       " Min.   :1.100   Min.   :17.00  \n",
       " 1st Qu.:2.700   1st Qu.:30.00  \n",
       " Median :4.800   Median :47.00  \n",
       " Mean   :5.012   Mean   :51.48  \n",
       " 3rd Qu.:7.400   3rd Qu.:75.00  \n",
       " Max.   :9.200   Max.   :95.00  "
      ]
     },
     "metadata": {},
     "output_type": "display_data"
    }
   ],
   "source": [
    "dim(data)#the dimensions of the dataset.\n",
    "head(data)#a brief preview of the dataset.\n",
    "names(data)#column names of the dataset.\n",
    "summary(data)##summary of the data"
   ]
  },
  {
   "cell_type": "markdown",
   "id": "b58fd062",
   "metadata": {},
   "source": [
    "Now we plot scatterplot of the data to observe if there's any visible correlation between the variables Scores and Hours. Plotting the distribution of the scores."
   ]
  },
  {
   "cell_type": "code",
   "execution_count": 3,
   "id": "deb3563a",
   "metadata": {},
   "outputs": [
    {
     "data": {
      "image/png": "[encoded data removed]",
      "text/plain": [
       "Plot with title “Hours vs. Percentage”"
      ]
     },
     "metadata": {
      "image/png": {
       "height": 420,
       "width": 420
      }
     },
     "output_type": "display_data"
    }
   ],
   "source": [
    "plot(data$Hours,data$Scores,\n",
    "     xlab=\"Hours studied\",ylab=\"Precentage Score\",\n",
    "     main=\"Hours vs. Percentage\")\n",
    "legend(x=1,y=95,'Scores',pch=16)\n"
   ]
  },
  {
   "cell_type": "markdown",
   "id": "1f59fd33",
   "metadata": {},
   "source": [
    "From the scatterplot we can see that  the relation between the number of hours studied and percentage of score is  linear. \n",
    "Based on the observations from the scatterplot we proceed to fit a linear regression model."
   ]
  },
  {
   "cell_type": "code",
   "execution_count": 10,
   "id": "2487a9f6",
   "metadata": {},
   "outputs": [
    {
     "data": {
      "text/plain": [
       "\n",
       "Call:\n",
       "lm(formula = ytrain ~ xtrain, data = data)\n",
       "\n",
       "Residuals:\n",
       "   Min     1Q Median     3Q    Max \n",
       "-8.104 -5.200  2.047  4.108  7.564 \n",
       "\n",
       "Coefficients:\n",
       "            Estimate Std. Error t value Pr(>|t|)    \n",
       "(Intercept)  0.09355    2.63565   0.035    0.972    \n",
       "xtrain      10.40675    0.49248  21.131 3.72e-14 ***\n",
       "---\n",
       "Signif. codes:  0 ‘***’ 0.001 ‘**’ 0.01 ‘*’ 0.05 ‘.’ 0.1 ‘ ’ 1\n",
       "\n",
       "Residual standard error: 5.168 on 18 degrees of freedom\n",
       "Multiple R-squared:  0.9613,\tAdjusted R-squared:  0.9591 \n",
       "F-statistic: 446.5 on 1 and 18 DF,  p-value: 3.718e-14\n"
      ]
     },
     "metadata": {},
     "output_type": "display_data"
    }
   ],
   "source": [
    "## The linear regression model:\n",
    "\n",
    "##Now,we divide the data into two parts randomly- referring one to train data and the other to test data. \n",
    "##We divide the data into 4:1 ratio.That is 80% data for traing set and 20% data for test set to get the better predictions.\n",
    "x=data$Hours ; y=data$Scores \n",
    "rsample=sample(nrow(data),floor(0.8*nrow(data)),replace=F)\n",
    "xtrain=x[rsample];ytrain=y[rsample]\n",
    "xtest=x[-rsample];ytest=y[-rsample]\n",
    "##Now we have to fit a linear regression model to the train data:\n",
    "model=lm(ytrain~xtrain,data=data)\n",
    "summary(model)"
   ]
  },
  {
   "cell_type": "markdown",
   "id": "59235833",
   "metadata": {},
   "source": [
    "With the help of R, the linear regression model has come out to be :\n",
    "      Scores=4.2368  +9.4280Hours\n",
    "the value of Adjusted R-squared for the above regression model is 0.9429  which is high.\n",
    "That is, the above linear regression model explains  the total variation in Scores due to the number of hours of studying by a student very well. \n",
    "Since the Adjusted R-squared is very high we can say that the fit is good."
   ]
  },
  {
   "cell_type": "code",
   "execution_count": 9,
   "id": "d69187f9",
   "metadata": {},
   "outputs": [
    {
     "data": {
      "image/png": "[encoded data removed]",
      "text/plain": [
       "Plot with title “Hours vs. Percentage”"
      ]
     },
     "metadata": {
      "image/png": {
       "height": 420,
       "width": 420
      }
     },
     "output_type": "display_data"
    }
   ],
   "source": [
    "##ploting of the fitted model with the scatterplot of the data set \n",
    "plot(data$Hours,data$Scores,\n",
    "     xlab=\"Hours studied\",ylab=\"Precentage Score\",\n",
    "     main=\"Hours vs. Percentage\")\n",
    "legend(x=1,y=95,'Scores',pch=16)\n",
    "abline(model,col=\"red\")"
   ]
  },
  {
   "cell_type": "markdown",
   "id": "719b4eeb",
   "metadata": {},
   "source": [
    "Here the redline is the regression line which is passes through the data points.\n",
    "Now we test this model on our test data.\n",
    "Now its time to make comparison between the observed vales for test data set and predicted values on test data set using the linear model."
   ]
  },
  {
   "cell_type": "code",
   "execution_count": 10,
   "id": "656ae968",
   "metadata": {},
   "outputs": [
    {
     "data": {
      "text/html": [
       "<style>\n",
       ".dl-inline {width: auto; margin:0; padding: 0}\n",
       ".dl-inline>dt, .dl-inline>dd {float: none; width: auto; display: inline-block}\n",
       ".dl-inline>dt::after {content: \":\\0020\"; padding-right: .5ex}\n",
       ".dl-inline>dt:not(:first-of-type) {padding-left: .5ex}\n",
       "</style><dl class=dl-inline><dt>1</dt><dd>37.2348951562765</dd><dt>2</dt><dd>90.974622732154</dd><dt>3</dt><dd>76.8325891595546</dd><dt>4</dt><dd>88.1462160176341</dd><dt>5</dt><dd>40.0633018707964</dd></dl>\n"
      ],
      "text/latex": [
       "\\begin{description*}\n",
       "\\item[1] 37.2348951562765\n",
       "\\item[2] 90.974622732154\n",
       "\\item[3] 76.8325891595546\n",
       "\\item[4] 88.1462160176341\n",
       "\\item[5] 40.0633018707964\n",
       "\\end{description*}\n"
      ],
      "text/markdown": [
       "1\n",
       ":   37.23489515627652\n",
       ":   90.9746227321543\n",
       ":   76.83258915955464\n",
       ":   88.14621601763415\n",
       ":   40.0633018707964\n",
       "\n"
      ],
      "text/plain": [
       "       1        2        3        4        5 \n",
       "37.23490 90.97462 76.83259 88.14622 40.06330 "
      ]
     },
     "metadata": {},
     "output_type": "display_data"
    },
    {
     "data": {
      "text/html": [
       "<table class=\"dataframe\">\n",
       "<caption>A data.frame: 5 × 3</caption>\n",
       "<thead>\n",
       "\t<tr><th></th><th scope=col>Hours</th><th scope=col>Actual.Score</th><th scope=col>Predicted.Score</th></tr>\n",
       "\t<tr><th></th><th scope=col>&lt;dbl&gt;</th><th scope=col>&lt;int&gt;</th><th scope=col>&lt;dbl&gt;</th></tr>\n",
       "</thead>\n",
       "<tbody>\n",
       "\t<tr><th scope=row>1</th><td>3.5</td><td>30</td><td>37.23490</td></tr>\n",
       "\t<tr><th scope=row>2</th><td>9.2</td><td>88</td><td>90.97462</td></tr>\n",
       "\t<tr><th scope=row>3</th><td>7.7</td><td>85</td><td>76.83259</td></tr>\n",
       "\t<tr><th scope=row>4</th><td>8.9</td><td>95</td><td>88.14622</td></tr>\n",
       "\t<tr><th scope=row>5</th><td>3.8</td><td>35</td><td>40.06330</td></tr>\n",
       "</tbody>\n",
       "</table>\n"
      ],
      "text/latex": [
       "A data.frame: 5 × 3\n",
       "\\begin{tabular}{r|lll}\n",
       "  & Hours & Actual.Score & Predicted.Score\\\\\n",
       "  & <dbl> & <int> & <dbl>\\\\\n",
       "\\hline\n",
       "\t1 & 3.5 & 30 & 37.23490\\\\\n",
       "\t2 & 9.2 & 88 & 90.97462\\\\\n",
       "\t3 & 7.7 & 85 & 76.83259\\\\\n",
       "\t4 & 8.9 & 95 & 88.14622\\\\\n",
       "\t5 & 3.8 & 35 & 40.06330\\\\\n",
       "\\end{tabular}\n"
      ],
      "text/markdown": [
       "\n",
       "A data.frame: 5 × 3\n",
       "\n",
       "| <!--/--> | Hours &lt;dbl&gt; | Actual.Score &lt;int&gt; | Predicted.Score &lt;dbl&gt; |\n",
       "|---|---|---|---|\n",
       "| 1 | 3.5 | 30 | 37.23490 |\n",
       "| 2 | 9.2 | 88 | 90.97462 |\n",
       "| 3 | 7.7 | 85 | 76.83259 |\n",
       "| 4 | 8.9 | 95 | 88.14622 |\n",
       "| 5 | 3.8 | 35 | 40.06330 |\n",
       "\n"
      ],
      "text/plain": [
       "  Hours Actual.Score Predicted.Score\n",
       "1 3.5   30           37.23490       \n",
       "2 9.2   88           90.97462       \n",
       "3 7.7   85           76.83259       \n",
       "4 8.9   95           88.14622       \n",
       "5 3.8   35           40.06330       "
      ]
     },
     "metadata": {},
     "output_type": "display_data"
    }
   ],
   "source": [
    "ypred=predict(model,newdata=data.frame(xtrain=xtest))\n",
    "ypred\n",
    "df=data.frame(\"Hours\"=xtest,\"Actual Score\"=ytest,\"Predicted Score\"=ypred)\n",
    "df"
   ]
  },
  {
   "cell_type": "markdown",
   "id": "6ec20f60",
   "metadata": {},
   "source": [
    "from the above table we can see that the difference between actual/observed values and the Predicted values using the linera model is less.\n",
    "so we can say that our linear model is not bad in the context of prediction.\n",
    "Now we have to predict the score of a student who studied for 9.25 hrs."
   ]
  },
  {
   "cell_type": "code",
   "execution_count": 11,
   "id": "c6eeae69",
   "metadata": {},
   "outputs": [
    {
     "data": {
      "text/html": [
       "<table class=\"dataframe\">\n",
       "<caption>A data.frame: 1 × 2</caption>\n",
       "<thead>\n",
       "\t<tr><th></th><th scope=col>Hours</th><th scope=col>Predicted.Score</th></tr>\n",
       "\t<tr><th></th><th scope=col>&lt;dbl&gt;</th><th scope=col>&lt;dbl&gt;</th></tr>\n",
       "</thead>\n",
       "<tbody>\n",
       "\t<tr><th scope=row>1</th><td>9.25</td><td>91.44602</td></tr>\n",
       "</tbody>\n",
       "</table>\n"
      ],
      "text/latex": [
       "A data.frame: 1 × 2\n",
       "\\begin{tabular}{r|ll}\n",
       "  & Hours & Predicted.Score\\\\\n",
       "  & <dbl> & <dbl>\\\\\n",
       "\\hline\n",
       "\t1 & 9.25 & 91.44602\\\\\n",
       "\\end{tabular}\n"
      ],
      "text/markdown": [
       "\n",
       "A data.frame: 1 × 2\n",
       "\n",
       "| <!--/--> | Hours &lt;dbl&gt; | Predicted.Score &lt;dbl&gt; |\n",
       "|---|---|---|\n",
       "| 1 | 9.25 | 91.44602 |\n",
       "\n"
      ],
      "text/plain": [
       "  Hours Predicted.Score\n",
       "1 9.25  91.44602       "
      ]
     },
     "metadata": {},
     "output_type": "display_data"
    }
   ],
   "source": [
    "pred=predict(model,newdata=data.frame(xtrain=9.25))\n",
    "x=data.frame(\"Hours\"=9.25,\"Predicted Score\"=pred)\n",
    "x"
   ]
  },
  {
   "cell_type": "markdown",
   "id": "5410cf9e",
   "metadata": {},
   "source": [
    "That is, if a student studies 9.5 hours per day then he/she can be expected to score approximately 91.44% in the exam.\n",
    "\n",
    "With that the first task of my data science and business analytics internship is completed."
   ]
  }
 ],
 "metadata": {
  "kernelspec": {
   "display_name": "R",
   "language": "R",
   "name": "ir"
  },
  "language_info": {
   "codemirror_mode": "r",
   "file_extension": ".r",
   "mimetype": "text/x-r-source",
   "name": "R",
   "pygments_lexer": "r",
   "version": "4.1.2"
  }
 },
 "nbformat": 4,
 "nbformat_minor": 5
}
